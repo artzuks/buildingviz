{
 "cells": [
  {
   "cell_type": "markdown",
   "metadata": {},
   "source": [
    "# Time series forecasting with DeepAR - Synthetic data"
   ]
  },
  {
   "cell_type": "markdown",
   "metadata": {},
   "source": [
    "DeepAR is a supervised learning algorithm for forecasting scalar time series. This notebook demonstrates how to prepare a dataset of time series for training DeepAR and how to use the trained model for inference."
   ]
  },
  {
   "cell_type": "code",
   "execution_count": 2,
   "metadata": {},
   "outputs": [],
   "source": [
    "import time\n",
    "import numpy as np\n",
    "np.random.seed(1)\n",
    "import pandas as pd\n",
    "import json\n",
    "import matplotlib.pyplot as plt"
   ]
  },
  {
   "cell_type": "markdown",
   "metadata": {},
   "source": [
    "We will use the sagemaker client library for easy interface with sagemaker and s3fs for uploading the training data to S3. (Use `pip` to install missing libraries)"
   ]
  },
  {
   "cell_type": "code",
   "execution_count": 3,
   "metadata": {},
   "outputs": [
    {
     "name": "stdout",
     "output_type": "stream",
     "text": [
      "Solving environment: done\n",
      "\n",
      "# All requested packages already installed.\n",
      "\n"
     ]
    }
   ],
   "source": [
    "!conda install -y s3fs"
   ]
  },
  {
   "cell_type": "code",
   "execution_count": 4,
   "metadata": {},
   "outputs": [],
   "source": [
    "import boto3\n",
    "import s3fs\n",
    "import sagemaker\n",
    "from sagemaker import get_execution_role"
   ]
  },
  {
   "cell_type": "markdown",
   "metadata": {},
   "source": [
    "Let's start by specifying:\n",
    "- The S3 bucket and prefix that you want to use for training and model data. This should be within the same region as the Notebook Instance, training, and hosting.\n",
    "- The IAM role arn used to give training and hosting access to your data. See the documentation for how to create these. Here we use the `get_execution_role` function to obtain the role arn which was specified when creating the notebook."
   ]
  },
  {
   "cell_type": "code",
   "execution_count": 166,
   "metadata": {
    "isConfigCell": true
   },
   "outputs": [],
   "source": [
    "bucket = 'buildingviz-data'\n",
    "prefix = 'sagemaker/deepar-data'\n",
    "\n",
    "sagemaker_session = sagemaker.Session()\n",
    "role = get_execution_role()\n",
    "\n",
    "s3_data_path = \"{}/{}/data\".format(bucket, prefix)\n",
    "s3_output_path = \"{}/{}/output\".format(bucket, prefix)"
   ]
  },
  {
   "cell_type": "markdown",
   "metadata": {},
   "source": [
    "Next, we configure the container image to be used for the region that we are running in."
   ]
  },
  {
   "cell_type": "code",
   "execution_count": 5,
   "metadata": {},
   "outputs": [],
   "source": [
    "from sagemaker.amazon.amazon_estimator import get_image_uri\n",
    "image_name = get_image_uri(boto3.Session().region_name, 'forecasting-deepar')"
   ]
  },
  {
   "cell_type": "code",
   "execution_count": 136,
   "metadata": {
    "collapsed": true
   },
   "outputs": [],
   "source": [
    "freq = 'MS'\n",
    "prediction_length = 24"
   ]
  },
  {
   "cell_type": "code",
   "execution_count": 134,
   "metadata": {
    "collapsed": true
   },
   "outputs": [],
   "source": [
    "context_length = 106"
   ]
  },
  {
   "cell_type": "markdown",
   "metadata": {},
   "source": [
    "The following utility functions convert `pandas.Series` objects into the appropriate JSON strings that DeepAR can consume. We will use these to write the data to S3."
   ]
  },
  {
   "cell_type": "code",
   "execution_count": 98,
   "metadata": {
    "collapsed": true
   },
   "outputs": [],
   "source": [
    "def series_to_obj(ts, cat=None):\n",
    "    obj = {\"start\": str(ts.index[0]), \"target\": list(ts)}\n",
    "    if cat is not None:\n",
    "        obj[\"cat\"] = cat\n",
    "    return obj\n",
    "\n",
    "def series_to_jsonline(ts, cat=None):\n",
    "    return json.dumps(series_to_obj(ts, cat))"
   ]
  },
  {
   "cell_type": "code",
   "execution_count": 126,
   "metadata": {},
   "outputs": [],
   "source": [
    "class DeepARPredictor(sagemaker.predictor.RealTimePredictor):\n",
    "\n",
    "    def set_prediction_parameters(self, freq, prediction_length):\n",
    "        \"\"\"Set the time frequency and prediction length parameters. This method **must** be called\n",
    "        before being able to use `predict`.\n",
    "        \n",
    "        Parameters:\n",
    "        freq -- string indicating the time frequency\n",
    "        prediction_length -- integer, number of predicted time points\n",
    "        \n",
    "        Return value: none.\n",
    "        \"\"\"\n",
    "        self.freq = freq\n",
    "        self.prediction_length = prediction_length\n",
    "        \n",
    "    def predict(self, ts, cat=None, encoding=\"utf-8\", num_samples=100, quantiles=[\"0.1\", \"0.5\", \"0.9\"]):\n",
    "        \"\"\"Requests the prediction of for the time series listed in `ts`, each with the (optional)\n",
    "        corresponding category listed in `cat`.\n",
    "        \n",
    "        Parameters:\n",
    "        ts -- list of `pandas.Series` objects, the time series to predict\n",
    "        cat -- list of integers (default: None)\n",
    "        encoding -- string, encoding to use for the request (default: \"utf-8\")\n",
    "        num_samples -- integer, number of samples to compute at prediction time (default: 100)\n",
    "        quantiles -- list of strings specifying the quantiles to compute (default: [\"0.1\", \"0.5\", \"0.9\"])\n",
    "        \n",
    "        Return value: list of `pandas.DataFrame` objects, each containing the predictions\n",
    "        \"\"\"\n",
    "        prediction_times = [x.index[-1]+1 for x in ts]\n",
    "        req = self.__encode_request(ts, cat, encoding, num_samples, quantiles)\n",
    "        res = super(DeepARPredictor, self).predict(req)\n",
    "        return self.__decode_response(res, prediction_times, encoding)\n",
    "    \n",
    "    def __encode_request(self, ts, cat, encoding, num_samples, quantiles):\n",
    "        instances = [series_to_obj(ts[k], cat[k] if cat else None) for k in range(len(ts))]\n",
    "        configuration = {\"num_samples\": num_samples, \"output_types\": [\"quantiles\"], \"quantiles\": quantiles}\n",
    "        http_request_data = {\"instances\": instances, \"configuration\": configuration}\n",
    "        return json.dumps(http_request_data).encode(encoding)\n",
    "    \n",
    "    def __decode_response(self, response, prediction_times, encoding):\n",
    "        response_data = json.loads(response.decode(encoding))\n",
    "        list_of_df = []\n",
    "        for k in range(len(prediction_times)):\n",
    "            prediction_index = pd.DatetimeIndex(start=prediction_times[k], freq=self.freq, periods=self.prediction_length)\n",
    "            list_of_df.append(pd.DataFrame(data=response_data['predictions'][k]['quantiles'], index=prediction_index))\n",
    "        return list_of_df"
   ]
  },
  {
   "cell_type": "code",
   "execution_count": 152,
   "metadata": {},
   "outputs": [],
   "source": [
    "freq = 'MS'\n",
    "prediction_length = 24\n",
    "context_length = 82\n",
    "predictor = DeepARPredictor(\n",
    "    endpoint='buildingviz-forecasts-high',\n",
    "    sagemaker_session=sagemaker_session,\n",
    "    content_type=\"application/json\"\n",
    ")\n",
    "predictor.set_prediction_parameters(freq, prediction_length)"
   ]
  },
  {
   "cell_type": "markdown",
   "metadata": {},
   "source": [
    "### Make predictions and plot results"
   ]
  },
  {
   "cell_type": "markdown",
   "metadata": {},
   "source": [
    "Now we can use the previously created `predictor` object. For simplicity, we will predict only the first few time series used for training, and compare the results with the actual data we kept in the test set."
   ]
  },
  {
   "cell_type": "code",
   "execution_count": 169,
   "metadata": {
    "collapsed": true
   },
   "outputs": [],
   "source": [
    "encoding = \"utf-8\"\n",
    "s3filesystem = s3fs.S3FileSystem()\n",
    "mapping = {}\n",
    "\n",
    "with s3filesystem.open(\"buildingviz-data/forecastin/medianrentsmap-high.json\", 'rb') as fp:\n",
    "    mapping = json.loads(fp.read())"
   ]
  },
  {
   "cell_type": "code",
   "execution_count": 175,
   "metadata": {
    "collapsed": true
   },
   "outputs": [],
   "source": [
    "def writeToFile (path,obj):\n",
    "    encoding = \"utf-8\"\n",
    "    with s3filesystem.open(path, 'wb') as fp:\n",
    "        fp.write(series_to_jsonline(obj).encode(encoding))\n",
    "        fp.write('\\n'.encode(encoding))"
   ]
  },
  {
   "cell_type": "code",
   "execution_count": 184,
   "metadata": {
    "collapsed": true
   },
   "outputs": [
    {
     "data": {
      "text/html": [
       "<div>\n",
       "<style scoped>\n",
       "    .dataframe tbody tr th:only-of-type {\n",
       "        vertical-align: middle;\n",
       "    }\n",
       "\n",
       "    .dataframe tbody tr th {\n",
       "        vertical-align: top;\n",
       "    }\n",
       "\n",
       "    .dataframe thead th {\n",
       "        text-align: right;\n",
       "    }\n",
       "</style>\n",
       "<table border=\"1\" class=\"dataframe\">\n",
       "  <thead>\n",
       "    <tr style=\"text-align: right;\">\n",
       "      <th></th>\n",
       "      <th>2010-01</th>\n",
       "      <th>2010-02</th>\n",
       "      <th>2010-03</th>\n",
       "      <th>2010-04</th>\n",
       "      <th>2010-05</th>\n",
       "      <th>2010-06</th>\n",
       "      <th>2010-07</th>\n",
       "      <th>2010-08</th>\n",
       "      <th>2010-09</th>\n",
       "      <th>2010-10</th>\n",
       "      <th>...</th>\n",
       "      <th>2018-01</th>\n",
       "      <th>2018-02</th>\n",
       "      <th>2018-03</th>\n",
       "      <th>2018-04</th>\n",
       "      <th>2018-05</th>\n",
       "      <th>2018-06</th>\n",
       "      <th>2018-07</th>\n",
       "      <th>2018-08</th>\n",
       "      <th>2018-09</th>\n",
       "      <th>2018-10</th>\n",
       "    </tr>\n",
       "  </thead>\n",
       "  <tbody>\n",
       "    <tr>\n",
       "      <th>0</th>\n",
       "      <td>900000.0</td>\n",
       "      <td>849500.0</td>\n",
       "      <td>992500.0</td>\n",
       "      <td>994896.5</td>\n",
       "      <td>917500.0</td>\n",
       "      <td>797500.0</td>\n",
       "      <td>1122500.0</td>\n",
       "      <td>990000.0</td>\n",
       "      <td>949000.0</td>\n",
       "      <td>975000.0</td>\n",
       "      <td>...</td>\n",
       "      <td>1304134.0</td>\n",
       "      <td>1588470.0</td>\n",
       "      <td>1430000.0</td>\n",
       "      <td>1360000.0</td>\n",
       "      <td>1406596.5</td>\n",
       "      <td>1375000.0</td>\n",
       "      <td>1555629.0</td>\n",
       "      <td>1560828.0</td>\n",
       "      <td>1325000.0</td>\n",
       "      <td>1222000.0</td>\n",
       "    </tr>\n",
       "    <tr>\n",
       "      <th>1</th>\n",
       "      <td>685000.0</td>\n",
       "      <td>637500.0</td>\n",
       "      <td>600000.0</td>\n",
       "      <td>690000.0</td>\n",
       "      <td>732626.5</td>\n",
       "      <td>600000.0</td>\n",
       "      <td>748500.0</td>\n",
       "      <td>753505.0</td>\n",
       "      <td>718887.5</td>\n",
       "      <td>770000.0</td>\n",
       "      <td>...</td>\n",
       "      <td>865000.0</td>\n",
       "      <td>942000.0</td>\n",
       "      <td>952000.0</td>\n",
       "      <td>866756.0</td>\n",
       "      <td>861000.0</td>\n",
       "      <td>850000.0</td>\n",
       "      <td>888888.0</td>\n",
       "      <td>852500.0</td>\n",
       "      <td>880000.0</td>\n",
       "      <td>895000.0</td>\n",
       "    </tr>\n",
       "    <tr>\n",
       "      <th>2</th>\n",
       "      <td>1004500.0</td>\n",
       "      <td>831421.0</td>\n",
       "      <td>995000.0</td>\n",
       "      <td>875000.0</td>\n",
       "      <td>1200000.0</td>\n",
       "      <td>827391.0</td>\n",
       "      <td>993750.0</td>\n",
       "      <td>975000.0</td>\n",
       "      <td>852500.0</td>\n",
       "      <td>832500.0</td>\n",
       "      <td>...</td>\n",
       "      <td>1175000.0</td>\n",
       "      <td>1072500.0</td>\n",
       "      <td>1243690.5</td>\n",
       "      <td>1215000.0</td>\n",
       "      <td>1174139.0</td>\n",
       "      <td>1120000.0</td>\n",
       "      <td>1160000.0</td>\n",
       "      <td>1050000.0</td>\n",
       "      <td>1201000.0</td>\n",
       "      <td>1240000.0</td>\n",
       "    </tr>\n",
       "    <tr>\n",
       "      <th>3</th>\n",
       "      <td>366022.0</td>\n",
       "      <td>393496.0</td>\n",
       "      <td>350139.5</td>\n",
       "      <td>334620.0</td>\n",
       "      <td>338750.0</td>\n",
       "      <td>415740.0</td>\n",
       "      <td>433000.0</td>\n",
       "      <td>403000.0</td>\n",
       "      <td>469750.0</td>\n",
       "      <td>438263.5</td>\n",
       "      <td>...</td>\n",
       "      <td>627500.0</td>\n",
       "      <td>547500.0</td>\n",
       "      <td>582500.0</td>\n",
       "      <td>646250.0</td>\n",
       "      <td>576802.5</td>\n",
       "      <td>712500.0</td>\n",
       "      <td>646990.0</td>\n",
       "      <td>715000.0</td>\n",
       "      <td>667500.0</td>\n",
       "      <td>627500.0</td>\n",
       "    </tr>\n",
       "    <tr>\n",
       "      <th>4</th>\n",
       "      <td>860421.0</td>\n",
       "      <td>875000.0</td>\n",
       "      <td>747250.0</td>\n",
       "      <td>803603.5</td>\n",
       "      <td>900000.0</td>\n",
       "      <td>769750.0</td>\n",
       "      <td>985000.0</td>\n",
       "      <td>975000.0</td>\n",
       "      <td>825000.0</td>\n",
       "      <td>945000.0</td>\n",
       "      <td>...</td>\n",
       "      <td>973468.5</td>\n",
       "      <td>1250000.0</td>\n",
       "      <td>1250000.0</td>\n",
       "      <td>1490000.0</td>\n",
       "      <td>1348888.0</td>\n",
       "      <td>985000.0</td>\n",
       "      <td>1220000.0</td>\n",
       "      <td>1225000.0</td>\n",
       "      <td>1127000.0</td>\n",
       "      <td>1192500.0</td>\n",
       "    </tr>\n",
       "    <tr>\n",
       "      <th>5</th>\n",
       "      <td>NaN</td>\n",
       "      <td>NaN</td>\n",
       "      <td>NaN</td>\n",
       "      <td>NaN</td>\n",
       "      <td>NaN</td>\n",
       "      <td>NaN</td>\n",
       "      <td>NaN</td>\n",
       "      <td>NaN</td>\n",
       "      <td>NaN</td>\n",
       "      <td>NaN</td>\n",
       "      <td>...</td>\n",
       "      <td>NaN</td>\n",
       "      <td>NaN</td>\n",
       "      <td>NaN</td>\n",
       "      <td>NaN</td>\n",
       "      <td>NaN</td>\n",
       "      <td>NaN</td>\n",
       "      <td>NaN</td>\n",
       "      <td>NaN</td>\n",
       "      <td>NaN</td>\n",
       "      <td>NaN</td>\n",
       "    </tr>\n",
       "    <tr>\n",
       "      <th>6</th>\n",
       "      <td>402000.0</td>\n",
       "      <td>605237.5</td>\n",
       "      <td>380000.0</td>\n",
       "      <td>415000.0</td>\n",
       "      <td>392660.0</td>\n",
       "      <td>400000.0</td>\n",
       "      <td>380000.0</td>\n",
       "      <td>555018.5</td>\n",
       "      <td>425880.0</td>\n",
       "      <td>362500.0</td>\n",
       "      <td>...</td>\n",
       "      <td>959000.0</td>\n",
       "      <td>720000.0</td>\n",
       "      <td>649183.0</td>\n",
       "      <td>707304.5</td>\n",
       "      <td>702655.0</td>\n",
       "      <td>744585.0</td>\n",
       "      <td>625000.0</td>\n",
       "      <td>850000.0</td>\n",
       "      <td>682500.0</td>\n",
       "      <td>839000.0</td>\n",
       "    </tr>\n",
       "    <tr>\n",
       "      <th>7</th>\n",
       "      <td>637000.0</td>\n",
       "      <td>520000.0</td>\n",
       "      <td>NaN</td>\n",
       "      <td>549250.0</td>\n",
       "      <td>575000.0</td>\n",
       "      <td>533250.0</td>\n",
       "      <td>554250.0</td>\n",
       "      <td>639500.0</td>\n",
       "      <td>546000.0</td>\n",
       "      <td>565000.0</td>\n",
       "      <td>...</td>\n",
       "      <td>765000.0</td>\n",
       "      <td>897500.0</td>\n",
       "      <td>835000.0</td>\n",
       "      <td>878000.0</td>\n",
       "      <td>865000.0</td>\n",
       "      <td>839500.0</td>\n",
       "      <td>760000.0</td>\n",
       "      <td>880000.0</td>\n",
       "      <td>920000.0</td>\n",
       "      <td>798888.0</td>\n",
       "    </tr>\n",
       "    <tr>\n",
       "      <th>8</th>\n",
       "      <td>660000.0</td>\n",
       "      <td>353000.0</td>\n",
       "      <td>498888.0</td>\n",
       "      <td>305000.0</td>\n",
       "      <td>NaN</td>\n",
       "      <td>537500.0</td>\n",
       "      <td>NaN</td>\n",
       "      <td>NaN</td>\n",
       "      <td>645000.0</td>\n",
       "      <td>NaN</td>\n",
       "      <td>...</td>\n",
       "      <td>444000.0</td>\n",
       "      <td>NaN</td>\n",
       "      <td>NaN</td>\n",
       "      <td>882500.0</td>\n",
       "      <td>957500.0</td>\n",
       "      <td>NaN</td>\n",
       "      <td>933500.0</td>\n",
       "      <td>1039000.0</td>\n",
       "      <td>855000.0</td>\n",
       "      <td>499395.0</td>\n",
       "    </tr>\n",
       "  </tbody>\n",
       "</table>\n",
       "<p>9 rows × 106 columns</p>\n",
       "</div>"
      ],
      "text/plain": [
       "     2010-01   2010-02   2010-03   2010-04    2010-05   2010-06    2010-07  \\\n",
       "0   900000.0  849500.0  992500.0  994896.5   917500.0  797500.0  1122500.0   \n",
       "1   685000.0  637500.0  600000.0  690000.0   732626.5  600000.0   748500.0   \n",
       "2  1004500.0  831421.0  995000.0  875000.0  1200000.0  827391.0   993750.0   \n",
       "3   366022.0  393496.0  350139.5  334620.0   338750.0  415740.0   433000.0   \n",
       "4   860421.0  875000.0  747250.0  803603.5   900000.0  769750.0   985000.0   \n",
       "5        NaN       NaN       NaN       NaN        NaN       NaN        NaN   \n",
       "6   402000.0  605237.5  380000.0  415000.0   392660.0  400000.0   380000.0   \n",
       "7   637000.0  520000.0       NaN  549250.0   575000.0  533250.0   554250.0   \n",
       "8   660000.0  353000.0  498888.0  305000.0        NaN  537500.0        NaN   \n",
       "\n",
       "    2010-08   2010-09   2010-10    ...        2018-01    2018-02    2018-03  \\\n",
       "0  990000.0  949000.0  975000.0    ...      1304134.0  1588470.0  1430000.0   \n",
       "1  753505.0  718887.5  770000.0    ...       865000.0   942000.0   952000.0   \n",
       "2  975000.0  852500.0  832500.0    ...      1175000.0  1072500.0  1243690.5   \n",
       "3  403000.0  469750.0  438263.5    ...       627500.0   547500.0   582500.0   \n",
       "4  975000.0  825000.0  945000.0    ...       973468.5  1250000.0  1250000.0   \n",
       "5       NaN       NaN       NaN    ...            NaN        NaN        NaN   \n",
       "6  555018.5  425880.0  362500.0    ...       959000.0   720000.0   649183.0   \n",
       "7  639500.0  546000.0  565000.0    ...       765000.0   897500.0   835000.0   \n",
       "8       NaN  645000.0       NaN    ...       444000.0        NaN        NaN   \n",
       "\n",
       "     2018-04    2018-05    2018-06    2018-07    2018-08    2018-09    2018-10  \n",
       "0  1360000.0  1406596.5  1375000.0  1555629.0  1560828.0  1325000.0  1222000.0  \n",
       "1   866756.0   861000.0   850000.0   888888.0   852500.0   880000.0   895000.0  \n",
       "2  1215000.0  1174139.0  1120000.0  1160000.0  1050000.0  1201000.0  1240000.0  \n",
       "3   646250.0   576802.5   712500.0   646990.0   715000.0   667500.0   627500.0  \n",
       "4  1490000.0  1348888.0   985000.0  1220000.0  1225000.0  1127000.0  1192500.0  \n",
       "5        NaN        NaN        NaN        NaN        NaN        NaN        NaN  \n",
       "6   707304.5   702655.0   744585.0   625000.0   850000.0   682500.0   839000.0  \n",
       "7   878000.0   865000.0   839500.0   760000.0   880000.0   920000.0   798888.0  \n",
       "8   882500.0   957500.0        NaN   933500.0  1039000.0   855000.0   499395.0  \n",
       "\n",
       "[9 rows x 106 columns]"
      ]
     },
     "metadata": {},
     "output_type": "display_data"
    }
   ],
   "source": [
    "prices = pd.read_csv('medianSalesPrice_All.csv')\n",
    "#justdata = prices.iloc[:,0:109]\n",
    "#justdata = justdata.set_index('areaName')\n",
    "#justdata = justdata.iloc[:,2:108]\n",
    "#justdata = justdata.transpose()\n",
    "justdata = prices.iloc[:,3:109]\n",
    "display(justdata.head(9))\n",
    "date_rng = pd.date_range(start='1/1/2010', end='10/01/2018', freq='MS')\n",
    "for j in range(len(justdata)):\n",
    "    test_row = np.nan_to_num(justdata.as_matrix()[j])\n",
    "    ts = pd.Series(test_row, index=date_rng)\n",
    "    time_series_training = []\n",
    "    time_series_training.append(ts)\n",
    "    qs = [\"0.1\", \"0.2\", \"0.3\", \"0.4\", \"0.5\", \"0.6\", \"0.7\", \"0.8\", \"0.9\"]\n",
    "    list_of_df = predictor.predict(ts=time_series_training,cat=[j],num_samples=106,quantiles=qs)\n",
    "    writeToFile('buildingviz-data/forecastout/sales/actual/{}.json'.format(prices.loc[j,'areaName']),ts)\n",
    "    for k in range(len(qs)):\n",
    "        writeToFile('buildingviz-data/forecastout/sales/prediction/{}.{}.json'.format(prices.loc[j,'areaName'],qs[k]),list_of_df[0][qs[k]])\n",
    "    \n",
    "        \n",
    "\n",
    "#for ts in time_series:\n",
    "#    time_series_training.append(ts[:-prediction_length])\n",
    "#string_date_rng = [str(x) for x in date_rng]\n",
    "#timestamp_date_rng = pd.to_datetime(string_date_rng, infer_datetime_format=True)\n",
    "#justdata['DateTime'] = timestamp_date_rng\n",
    "#justdata = justdata.set_index('DateTime')\n",
    "#display(justdata.iloc[:,:1])"
   ]
  },
  {
   "cell_type": "code",
   "execution_count": 165,
   "metadata": {
    "collapsed": true
   },
   "outputs": [
    {
     "data": {
      "image/png": "[encoded data removed]",
      "text/plain": [
       "<Figure size 864x432 with 1 Axes>"
      ]
     },
     "metadata": {},
     "output_type": "display_data"
    }
   ],
   "source": [
    "for k in range(len(list_of_df)):\n",
    "    plt.figure(figsize=(12,6))\n",
    "    actual_data[k][-prediction_length-context_length:].plot(label='target')\n",
    "    p10 = list_of_df[k]['0.1']\n",
    "    p90 = list_of_df[k]['0.9']\n",
    "    plt.fill_between(p10.index, p10, p90, color='y', alpha=0.5, label='80% confidence interval')\n",
    "    list_of_df[k]['0.5'].plot(label='prediction median')\n",
    "    plt.legend()\n",
    "    plt.show()"
   ]
  }
 ],
 "metadata": {
  "kernelspec": {
   "display_name": "conda_python3",
   "language": "python",
   "name": "conda_python3"
  },
  "language_info": {
   "codemirror_mode": {
    "name": "ipython",
    "version": 3
   },
   "file_extension": ".py",
   "mimetype": "text/x-python",
   "name": "python",
   "nbconvert_exporter": "python",
   "pygments_lexer": "ipython3",
   "version": "3.6.5"
  },
  "notice": "Copyright 2017 Amazon.com, Inc. or its affiliates. All Rights Reserved.  Licensed under the Apache License, Version 2.0 (the \"License\"). You may not use this file except in compliance with the License. A copy of the License is located at http://aws.amazon.com/apache2.0/ or in the \"license\" file accompanying this file. This file is distributed on an \"AS IS\" BASIS, WITHOUT WARRANTIES OR CONDITIONS OF ANY KIND, either express or implied. See the License for the specific language governing permissions and limitations under the License."
 },
 "nbformat": 4,
 "nbformat_minor": 2
}
